{
  "nbformat": 4,
  "nbformat_minor": 0,
  "metadata": {
    "colab": {
      "name": "Mercedes Benz.ipynb",
      "provenance": [],
      "collapsed_sections": []
    },
    "kernelspec": {
      "name": "python3",
      "display_name": "Python 3"
    }
  },
  "cells": [
    {
      "cell_type": "code",
      "metadata": {
        "id": "zIUDHg2-HhJd",
        "colab_type": "code",
        "colab": {}
      },
      "source": [
        "import pandas as pd\n",
        "import numpy as np"
      ],
      "execution_count": 0,
      "outputs": []
    },
    {
      "cell_type": "code",
      "metadata": {
        "id": "9-XaSt9FEkSi",
        "colab_type": "code",
        "colab": {}
      },
      "source": [
        "data_a = pd.read_csv(\"/content/data_temp.csv\")"
      ],
      "execution_count": 0,
      "outputs": []
    },
    {
      "cell_type": "code",
      "metadata": {
        "id": "7hp16ZKvGUb4",
        "colab_type": "code",
        "colab": {}
      },
      "source": [
        "data_c = pd.read_csv(\"/content/data_temp(1).csv\")"
      ],
      "execution_count": 0,
      "outputs": []
    },
    {
      "cell_type": "code",
      "metadata": {
        "id": "UxHok10_9Acg",
        "colab_type": "code",
        "outputId": "76e7fc39-b481-45f0-ec10-5f71ea688340",
        "colab": {
          "base_uri": "https://localhost:8080/",
          "height": 90
        }
      },
      "source": [
        "import urllib.request, urllib.parse, urllib.error\n",
        "import json\n",
        "\"\"\"\"\"\n",
        "function:geocoding\n",
        "\"\"\"\n",
        "def geo(address):\n",
        "    api_key = False\n",
        "    if api_key is False:\n",
        "        api_key = 42\n",
        "        serviceurl = 'http://py4e-data.dr-chuck.net/json?'\n",
        "    else:\n",
        "        serviceurl = 'https://maps.googleapis.com/maps/api/directions/outputFormat?parameters'\n",
        "\n",
        "    parms = dict()\n",
        "    parms['address'] = address\n",
        "    if api_key is not False: parms['key'] = api_key\n",
        "    url = serviceurl + urllib.parse.urlencode(parms)\n",
        "    uh = urllib.request.urlopen(url)\n",
        "    data = uh.read().decode()\n",
        "    try:\n",
        "        js = json.loads(data)\n",
        "    except:\n",
        "        js = None\n",
        "    if not js or 'status' not in js or js['status'] != 'OK':\n",
        "        print('==== Failure To Retrieve ====')\n",
        "    id1 = js[\"results\"][0][\"geometry\"]['location']['lat']\n",
        "    id2 = js[\"results\"][0][\"geometry\"]['location']['lng']\n",
        "    return id1,id2\n",
        "\n",
        "\n",
        "waypt01=input(\"Enter the Starting location: \")\n",
        "lat1,lng1=geo(waypt01)\n",
        "waypt02=input(\"Enter the destination: \")\n",
        "lat2,lng2=geo(waypt02)\n",
        "mode1=input(\"Enter the Route Mode[fastest,shortest,balanced]: \")\n",
        "#mode2=input(\"Enter the Vehicle Type:[car|pedestrian|carHOV|publicTransport|publicTransportTimeTable|truck|bicycle]: \")\n",
        "surl = 'https://route.ls.hereapi.com/routing/7.2/calculateroute.json?waypoint0={}%2C{}&waypoint1={}%2C{}&mode={}%3B{}&'.format(lat1,lng1, lat2, lng2,mode1,\"car\")\n",
        "alternatives=input('Enter the no. of alternative routes:')\n",
        "api_Key='U2odxl9gB5Zv6EZTMw30nvGQzG9B39C1D6h-Xzarg4M'\n",
        "url=surl+urllib.parse.urlencode({'alternatives':alternatives,'apiKey':api_Key})\n",
        "uh=urllib.request.urlopen(url)\n",
        "data=uh.read().decode()\n",
        "try:\n",
        "    js=json.loads(data)\n",
        "except:\n",
        "    js=None\n",
        "#print(js)"
      ],
      "execution_count": 0,
      "outputs": [
        {
          "output_type": "stream",
          "text": [
            "Enter the Starting location: London\n",
            "Enter the destination: Oxford\n",
            "Enter the Route Mode[fastest,shortest,balanced]: fastest\n",
            "Enter the no. of alternative routes:3\n"
          ],
          "name": "stdout"
        }
      ]
    },
    {
      "cell_type": "code",
      "metadata": {
        "id": "Qm099wjFBGm7",
        "colab_type": "code",
        "colab": {}
      },
      "source": [
        "lat = []\n",
        "lng = []\n",
        "for j in range(len(js['response']['route'])):\n",
        "  lt=[]\n",
        "  lg=[]\n",
        "  for i in range(len(js['response']['route'][j]['leg'][0]['maneuver'])):\n",
        "    lt.append(js['response']['route'][j]['leg'][0]['maneuver'][i]['position']['latitude'])\n",
        "    lg.append(js['response']['route'][j]['leg'][0]['maneuver'][i]['position']['longitude'])\n",
        "  lat.append(lt)\n",
        "  lng.append(lg)\n"
      ],
      "execution_count": 0,
      "outputs": []
    },
    {
      "cell_type": "code",
      "metadata": {
        "id": "LClakQRj0ZD0",
        "colab_type": "code",
        "colab": {}
      },
      "source": [
        "l = [i for i in range(425)]\n",
        "lt = []\n",
        "lg = []\n",
        "for i in l:\n",
        "  lt.append(data_a[data_a.cluster == i].mean()[0])\n",
        "  lg.append(data_a[data_a.cluster == i].mean()[1])"
      ],
      "execution_count": 0,
      "outputs": []
    },
    {
      "cell_type": "code",
      "metadata": {
        "id": "RChKkAKvGbRT",
        "colab_type": "code",
        "colab": {}
      },
      "source": [
        "l = [i for i in range(429)]\n",
        "clt = []\n",
        "clg = []\n",
        "for i in l:\n",
        "  clt.append(data_c[data_c.cluster == i].mean()[0])\n",
        "  clg.append(data_c[data_c.cluster == i].mean()[1])"
      ],
      "execution_count": 0,
      "outputs": []
    },
    {
      "cell_type": "code",
      "metadata": {
        "id": "iIsSWmQ5Dsm3",
        "colab_type": "code",
        "outputId": "76ca8e16-9213-40dc-8434-769a8b6f9439",
        "colab": {
          "base_uri": "https://localhost:8080/",
          "height": 35
        }
      },
      "source": [
        "\"\"\"lati = (min(min(lat)) + max(max(lat)))/2\n",
        "lngi = (min(min(lng)) + max(max(lng)))/2\"\"\""
      ],
      "execution_count": 0,
      "outputs": [
        {
          "output_type": "execute_result",
          "data": {
            "text/plain": [
              "'lati = (min(min(lat)) + max(max(lat)))/2\\nlngi = (min(min(lng)) + max(max(lng)))/2'"
            ]
          },
          "metadata": {
            "tags": []
          },
          "execution_count": 19
        }
      ]
    },
    {
      "cell_type": "code",
      "metadata": {
        "id": "d2f8M9cwgnZm",
        "colab_type": "code",
        "outputId": "8a4ea7e1-752a-444f-cc63-f16f22eded66",
        "colab": {
          "base_uri": "https://localhost:8080/",
          "height": 35
        }
      },
      "source": [
        "\"\"\"pip install gmplot\"\"\""
      ],
      "execution_count": 0,
      "outputs": [
        {
          "output_type": "execute_result",
          "data": {
            "text/plain": [
              "'pip install gmplot'"
            ]
          },
          "metadata": {
            "tags": []
          },
          "execution_count": 20
        }
      ]
    },
    {
      "cell_type": "code",
      "metadata": {
        "id": "o9PDNQpmIE5w",
        "colab_type": "code",
        "outputId": "19777e48-1fe6-4342-a05b-eca135ad1450",
        "colab": {
          "base_uri": "https://localhost:8080/",
          "height": 55
        }
      },
      "source": [
        "\"\"\"import gmplot \n",
        "gmap3 = gmplot.GoogleMapPlotter(lati, \n",
        "                                lngi, 8) \n",
        " \n",
        "for i in range(len(lat)):\n",
        "  gmap3.scatter( lat[i], lng[i], '#FF0000', \n",
        "                              size = 15, marker = True )\n",
        "  gmap3.plot(lat[i], lng[i],'red', edge_width = 5) \n",
        "  gmap3.draw( \"map.html\")\"\"\""
      ],
      "execution_count": 0,
      "outputs": [
        {
          "output_type": "execute_result",
          "data": {
            "text/plain": [
              "'import gmplot \\ngmap3 = gmplot.GoogleMapPlotter(lati, \\n                                lngi, 8) \\n \\nfor i in range(len(lat)):\\n  gmap3.scatter( lat[i], lng[i], \\'#FF0000\\', \\n                              size = 15, marker = True )\\n  gmap3.plot(lat[i], lng[i],\\'red\\', edge_width = 5) \\n  gmap3.draw( \"map.html\")'"
            ]
          },
          "metadata": {
            "tags": []
          },
          "execution_count": 21
        }
      ]
    },
    {
      "cell_type": "code",
      "metadata": {
        "id": "dRlVEZ4VILKM",
        "colab_type": "code",
        "colab": {}
      },
      "source": [
        "def intersect(circle_center, circle_radius, pt1, pt2, full_line=True, tangent_tol=1e-9):\n",
        "\n",
        "    (p1x, p1y), (p2x, p2y), (cx, cy) = pt1, pt2, circle_center\n",
        "    (x1, y1), (x2, y2) = (p1x - cx, p1y - cy), (p2x - cx, p2y - cy)\n",
        "    dx, dy = (x2 - x1), (y2 - y1)\n",
        "    dr = (dx ** 2 + dy ** 2)**.5\n",
        "    big_d = x1 * y2 - x2 * y1\n",
        "    discriminant = circle_radius ** 2 * dr ** 2 - big_d ** 2\n",
        "    if x1**2 + y1**2 - circle_radius**2 < 0 and x2**2 + y2**2 - circle_radius**2 < 0:\n",
        "        return 1\n",
        "    if discriminant < 0:  \n",
        "        return 0\n",
        "    else:  \n",
        "        intersections = [\n",
        "            (cx + (big_d * dy + sign * (-1 if dy < 0 else 1) * dx * discriminant**.5) / dr ** 2,\n",
        "             cy + (-big_d * dx + sign * abs(dy) * discriminant**.5) / dr ** 2)\n",
        "             for sign in ((1, -1) if dy < 0 else (-1, 1))]  # This makes sure the order along the segment is correct\n",
        "        \n",
        "        \"\"\"if not full_line:  # If only considering the segment, filter out intersections that do not fall within the segment\n",
        "            fraction_along_segment = [(xi - p1x) / dx if abs(dx) > abs(dy) else (yi - p1y) / dy for xi, yi in intersections]\n",
        "            intersection = [pt for pt, frac in zip(intersections, fraction_along_segment) if 0 <= frac <= 1]\n",
        "            #print(len(fraction_along_segment))\"\"\" \n",
        "        x,y = intersections[0][0], intersections[0][1]\n",
        "        xx,yy = intersections[1][0], intersections[1][1]\n",
        "        first = p1x<=x<=p2x and p1y<=y<=p2y\n",
        "        sec = p1x<=xx<=p2x and p1y<=yy<=p2y\n",
        "        if first or sec:\n",
        "          return  1\n",
        "        else:\n",
        "          return 0"
      ],
      "execution_count": 0,
      "outputs": []
    },
    {
      "cell_type": "code",
      "metadata": {
        "id": "VLoNEUznK1hP",
        "colab_type": "code",
        "outputId": "687dc962-f6d1-4923-abf8-e5420d00fa49",
        "colab": {
          "base_uri": "https://localhost:8080/",
          "height": 35
        }
      },
      "source": [
        "\"\"\"intersect((x0,y0),r,(x1,y1),(x2,y2))\"\"\""
      ],
      "execution_count": 0,
      "outputs": [
        {
          "output_type": "execute_result",
          "data": {
            "text/plain": [
              "'intersect((x0,y0),r,(x1,y1),(x2,y2))'"
            ]
          },
          "metadata": {
            "tags": []
          },
          "execution_count": 23
        }
      ]
    },
    {
      "cell_type": "code",
      "metadata": {
        "id": "OkBaHnKw17t6",
        "colab_type": "code",
        "outputId": "6fe1cbbf-8668-4534-a6e6-2b02d6ee0175",
        "colab": {
          "base_uri": "https://localhost:8080/",
          "height": 35
        }
      },
      "source": [
        "\"\"\"data = pd.read_csv(\"/content/StreetLights_BB_opendata (1).csv\")\"\"\""
      ],
      "execution_count": 0,
      "outputs": [
        {
          "output_type": "execute_result",
          "data": {
            "text/plain": [
              "'data = pd.read_csv(\"/content/StreetLights_BB_opendata (1).csv\")'"
            ]
          },
          "metadata": {
            "tags": []
          },
          "execution_count": 24
        }
      ]
    },
    {
      "cell_type": "code",
      "metadata": {
        "id": "CT_n6prq2BKE",
        "colab_type": "code",
        "outputId": "0a910286-5ac0-4420-8831-11f5ffb7870c",
        "colab": {
          "base_uri": "https://localhost:8080/",
          "height": 35
        }
      },
      "source": [
        "\"\"\"latitude = list(data['Latitude'])\n",
        "\n",
        "longitude = list(data['Longitude'])\"\"\""
      ],
      "execution_count": 0,
      "outputs": [
        {
          "output_type": "execute_result",
          "data": {
            "text/plain": [
              "\"latitude = list(data['Latitude'])\\n\\nlongitude = list(data['Longitude'])\""
            ]
          },
          "metadata": {
            "tags": []
          },
          "execution_count": 25
        }
      ]
    },
    {
      "cell_type": "code",
      "metadata": {
        "id": "qHrARQCo2SuL",
        "colab_type": "code",
        "outputId": "e3f9fd08-9b6a-439d-881d-42a3efae68a1",
        "colab": {
          "base_uri": "https://localhost:8080/",
          "height": 35
        }
      },
      "source": [
        "\"\"\"pip install gmplot\"\"\"\n"
      ],
      "execution_count": 0,
      "outputs": [
        {
          "output_type": "execute_result",
          "data": {
            "text/plain": [
              "'pip install gmplot'"
            ]
          },
          "metadata": {
            "tags": []
          },
          "execution_count": 26
        }
      ]
    },
    {
      "cell_type": "code",
      "metadata": {
        "id": "daOU7r7s2jZK",
        "colab_type": "code",
        "outputId": "9d6ed1e0-d268-47f6-ea2d-747b9bc349d1",
        "colab": {
          "base_uri": "https://localhost:8080/",
          "height": 35
        }
      },
      "source": [
        "\"\"\"import gmplot\"\"\""
      ],
      "execution_count": 0,
      "outputs": [
        {
          "output_type": "execute_result",
          "data": {
            "text/plain": [
              "'import gmplot'"
            ]
          },
          "metadata": {
            "tags": []
          },
          "execution_count": 27
        }
      ]
    },
    {
      "cell_type": "code",
      "metadata": {
        "id": "gLC0Myp12k_y",
        "colab_type": "code",
        "outputId": "e3de8b62-94cf-44fb-92cb-409d91b6e9c1",
        "colab": {
          "base_uri": "https://localhost:8080/",
          "height": 55
        }
      },
      "source": [
        "\"\"\"gmap4 = gmplot.GoogleMapPlotter(min(latitude), min(longitude), 8)  \n",
        "gmap4.heatmap( latitude, longitude ) \n",
        "gmap4.draw( \"map1.html\")\"\"\""
      ],
      "execution_count": 0,
      "outputs": [
        {
          "output_type": "execute_result",
          "data": {
            "text/plain": [
              "'gmap4 = gmplot.GoogleMapPlotter(min(latitude), min(longitude), 8)  \\ngmap4.heatmap( latitude, longitude ) \\ngmap4.draw( \"map1.html\")'"
            ]
          },
          "metadata": {
            "tags": []
          },
          "execution_count": 28
        }
      ]
    },
    {
      "cell_type": "code",
      "metadata": {
        "id": "3hmCj-0tF-VU",
        "colab_type": "code",
        "outputId": "0d9afc02-10bd-4687-8aa2-c64f2b84967b",
        "colab": {
          "base_uri": "https://localhost:8080/",
          "height": 35
        }
      },
      "source": [
        "\"\"\"import webbrowser\n",
        "new = 2\n",
        "url = \"map14.html\"\n",
        "webbrowser.open(url,new=new)\"\"\""
      ],
      "execution_count": 0,
      "outputs": [
        {
          "output_type": "execute_result",
          "data": {
            "text/plain": [
              "'import webbrowser\\nnew = 2\\nurl = \"map14.html\"\\nwebbrowser.open(url,new=new)'"
            ]
          },
          "metadata": {
            "tags": []
          },
          "execution_count": 29
        }
      ]
    },
    {
      "cell_type": "code",
      "metadata": {
        "id": "iTlDqV3q_0C2",
        "colab_type": "code",
        "colab": {}
      },
      "source": [
        "r = 0.03"
      ],
      "execution_count": 0,
      "outputs": []
    },
    {
      "cell_type": "code",
      "metadata": {
        "id": "hbeRT-yd_Byw",
        "colab_type": "code",
        "colab": {}
      },
      "source": [
        "acc_wt = []\n",
        "for i in range(len(lat)):\n",
        "  alat,along = lat[i],lng[i]\n",
        "  tot = 0\n",
        "  for j in range(len(alat)-1):\n",
        "    for k in range(len(lt)):\n",
        "      x0,y0 = lt[k],lg[k]\n",
        "      x1,y1 = alat[j],along[j]\n",
        "      x2,y2 = alat[j+1],along[j+1]\n",
        "      tot = tot + intersect((x0,y0),r,(x1,y1),(x2,y2))\n",
        "      \n",
        "  acc_wt.append(tot)"
      ],
      "execution_count": 0,
      "outputs": []
    },
    {
      "cell_type": "code",
      "metadata": {
        "id": "iXaJt8iLCViE",
        "colab_type": "code",
        "outputId": "5fac6aeb-b91b-4218-f790-c7b849a770d2",
        "colab": {
          "base_uri": "https://localhost:8080/",
          "height": 35
        }
      },
      "source": [
        "acc_wt"
      ],
      "execution_count": 0,
      "outputs": [
        {
          "output_type": "execute_result",
          "data": {
            "text/plain": [
              "[12, 11, 9, 11]"
            ]
          },
          "metadata": {
            "tags": []
          },
          "execution_count": 32
        }
      ]
    },
    {
      "cell_type": "code",
      "metadata": {
        "id": "ft7J5NJGG9Gl",
        "colab_type": "code",
        "colab": {}
      },
      "source": [
        "cr_wt = []\n",
        "for i in range(len(lat)):\n",
        "  alat,along = lat[i],lng[i]\n",
        "  tot = 0\n",
        "  for j in range(len(alat)-1):\n",
        "    for k in range(len(lt)):\n",
        "      x0,y0 = clt[k],clg[k]\n",
        "      x1,y1 = alat[j],along[j]\n",
        "      x2,y2 = alat[j+1],along[j+1]\n",
        "      tot = tot + intersect((x0,y0),r,(x1,y1),(x2,y2))\n",
        "      \n",
        "  cr_wt.append(tot)"
      ],
      "execution_count": 0,
      "outputs": []
    },
    {
      "cell_type": "code",
      "metadata": {
        "id": "kANBO77kHHVv",
        "colab_type": "code",
        "outputId": "92e4fbb1-cd1f-4aed-b118-5096f183acae",
        "colab": {
          "base_uri": "https://localhost:8080/",
          "height": 35
        }
      },
      "source": [
        "cr_wt"
      ],
      "execution_count": 0,
      "outputs": [
        {
          "output_type": "execute_result",
          "data": {
            "text/plain": [
              "[19, 14, 17, 10]"
            ]
          },
          "metadata": {
            "tags": []
          },
          "execution_count": 34
        }
      ]
    },
    {
      "cell_type": "code",
      "metadata": {
        "id": "PgOYp3_5M7i2",
        "colab_type": "code",
        "outputId": "76afa890-5d15-46f6-e41b-688a30843d5c",
        "colab": {
          "base_uri": "https://localhost:8080/",
          "height": 35
        }
      },
      "source": [
        "np.array(cr_wt) + np.array(acc_wt)"
      ],
      "execution_count": 0,
      "outputs": [
        {
          "output_type": "execute_result",
          "data": {
            "text/plain": [
              "array([31, 25, 26, 21])"
            ]
          },
          "metadata": {
            "tags": []
          },
          "execution_count": 35
        }
      ]
    },
    {
      "cell_type": "code",
      "metadata": {
        "id": "6NOfdEiVNSzS",
        "colab_type": "code",
        "outputId": "cdec155e-d903-4db5-8ccb-432b6936e2c3",
        "colab": {
          "base_uri": "https://localhost:8080/",
          "height": 35
        }
      },
      "source": [
        "np.argmin(np.array(cr_wt) + np.array(acc_wt))"
      ],
      "execution_count": 0,
      "outputs": [
        {
          "output_type": "execute_result",
          "data": {
            "text/plain": [
              "3"
            ]
          },
          "metadata": {
            "tags": []
          },
          "execution_count": 36
        }
      ]
    },
    {
      "cell_type": "code",
      "metadata": {
        "id": "1sDCl-dYls4O",
        "colab_type": "code",
        "colab": {}
      },
      "source": [
        "import tkinter"
      ],
      "execution_count": 0,
      "outputs": []
    },
    {
      "cell_type": "code",
      "metadata": {
        "id": "9EVlWWZLmIqe",
        "colab_type": "code",
        "outputId": "f23d8cf1-efa2-4410-982e-d4255970d801",
        "colab": {
          "base_uri": "https://localhost:8080/",
          "height": 339
        }
      },
      "source": [
        "top = tkinter.Tk()\n",
        "top.mainloop()"
      ],
      "execution_count": 0,
      "outputs": [
        {
          "output_type": "error",
          "ename": "TclError",
          "evalue": "ignored",
          "traceback": [
            "\u001b[0;31m---------------------------------------------------------------------------\u001b[0m",
            "\u001b[0;31mTclError\u001b[0m                                  Traceback (most recent call last)",
            "\u001b[0;32m<ipython-input-43-d95f7b018fae>\u001b[0m in \u001b[0;36m<module>\u001b[0;34m()\u001b[0m\n\u001b[0;32m----> 1\u001b[0;31m \u001b[0mtop\u001b[0m \u001b[0;34m=\u001b[0m \u001b[0mtkinter\u001b[0m\u001b[0;34m.\u001b[0m\u001b[0mTk\u001b[0m\u001b[0;34m(\u001b[0m\u001b[0;34m)\u001b[0m\u001b[0;34m\u001b[0m\u001b[0;34m\u001b[0m\u001b[0m\n\u001b[0m\u001b[1;32m      2\u001b[0m \u001b[0mtop\u001b[0m\u001b[0;34m.\u001b[0m\u001b[0mmainloop\u001b[0m\u001b[0;34m(\u001b[0m\u001b[0;34m)\u001b[0m\u001b[0;34m\u001b[0m\u001b[0;34m\u001b[0m\u001b[0m\n",
            "\u001b[0;32m/usr/lib/python3.6/tkinter/__init__.py\u001b[0m in \u001b[0;36m__init__\u001b[0;34m(self, screenName, baseName, className, useTk, sync, use)\u001b[0m\n\u001b[1;32m   2021\u001b[0m                 \u001b[0mbaseName\u001b[0m \u001b[0;34m=\u001b[0m \u001b[0mbaseName\u001b[0m \u001b[0;34m+\u001b[0m \u001b[0mext\u001b[0m\u001b[0;34m\u001b[0m\u001b[0;34m\u001b[0m\u001b[0m\n\u001b[1;32m   2022\u001b[0m         \u001b[0minteractive\u001b[0m \u001b[0;34m=\u001b[0m \u001b[0;36m0\u001b[0m\u001b[0;34m\u001b[0m\u001b[0;34m\u001b[0m\u001b[0m\n\u001b[0;32m-> 2023\u001b[0;31m         \u001b[0mself\u001b[0m\u001b[0;34m.\u001b[0m\u001b[0mtk\u001b[0m \u001b[0;34m=\u001b[0m \u001b[0m_tkinter\u001b[0m\u001b[0;34m.\u001b[0m\u001b[0mcreate\u001b[0m\u001b[0;34m(\u001b[0m\u001b[0mscreenName\u001b[0m\u001b[0;34m,\u001b[0m \u001b[0mbaseName\u001b[0m\u001b[0;34m,\u001b[0m \u001b[0mclassName\u001b[0m\u001b[0;34m,\u001b[0m \u001b[0minteractive\u001b[0m\u001b[0;34m,\u001b[0m \u001b[0mwantobjects\u001b[0m\u001b[0;34m,\u001b[0m \u001b[0museTk\u001b[0m\u001b[0;34m,\u001b[0m \u001b[0msync\u001b[0m\u001b[0;34m,\u001b[0m \u001b[0muse\u001b[0m\u001b[0;34m)\u001b[0m\u001b[0;34m\u001b[0m\u001b[0;34m\u001b[0m\u001b[0m\n\u001b[0m\u001b[1;32m   2024\u001b[0m         \u001b[0;32mif\u001b[0m \u001b[0museTk\u001b[0m\u001b[0;34m:\u001b[0m\u001b[0;34m\u001b[0m\u001b[0;34m\u001b[0m\u001b[0m\n\u001b[1;32m   2025\u001b[0m             \u001b[0mself\u001b[0m\u001b[0;34m.\u001b[0m\u001b[0m_loadtk\u001b[0m\u001b[0;34m(\u001b[0m\u001b[0;34m)\u001b[0m\u001b[0;34m\u001b[0m\u001b[0;34m\u001b[0m\u001b[0m\n",
            "\u001b[0;31mTclError\u001b[0m: no display name and no $DISPLAY environment variable"
          ]
        }
      ]
    }
  ]
}